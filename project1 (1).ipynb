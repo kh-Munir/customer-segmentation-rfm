{
 "cells": [
  {
   "cell_type": "code",
   "execution_count": 1,
   "id": "032f90a4-385f-4c14-80e8-b54bac61005b",
   "metadata": {},
   "outputs": [
    {
     "name": "stdout",
     "output_type": "stream",
     "text": [
      "Requirement already satisfied: faker in c:\\users\\ng\\anaconda3\\lib\\site-packages (37.4.0)\n",
      "Requirement already satisfied: tzdata in c:\\users\\ng\\anaconda3\\lib\\site-packages (from faker) (2023.3)\n"
     ]
    }
   ],
   "source": [
    "#The project name is \"Sales Performance & Customer Segmentation\" \n",
    "!pip install faker\n",
    "import pandas as pd\n",
    "import numpy as np\n",
    "import random\n",
    "from faker import Faker\n",
    "import matplotlib.pyplot as plt\n",
    "import seaborn as sns\n",
    "import datetime as dt"
   ]
  },
  {
   "cell_type": "code",
   "execution_count": 2,
   "id": "2b2e7cd0-274b-4ef3-b436-b318def0f9bb",
   "metadata": {},
   "outputs": [
    {
     "name": "stdout",
     "output_type": "stream",
     "text": [
      "Custom Canadian sales dataset created and saved as 'canadian_retail_sales.csv'\n"
     ]
    }
   ],
   "source": [
    "# Python code to generate the dataset\n",
    "\n",
    "# Initializes the faker object to generate fake data\n",
    "fake = Faker()\n",
    "Faker.seed(42)\n",
    "np.random.seed(42)\n",
    "\n",
    "# Define constants\n",
    "provinces = ['ON', 'QC', 'BC', 'AB', 'MB', 'NS', 'NB', 'NL', 'PE', 'SK']\n",
    "categories = {\n",
    "    'Electronics': ['Smartphone', 'Laptop', 'Headphones', 'Monitor'],\n",
    "    'Apparel': ['Jeans', 'T-shirt', 'Sneakers', 'Jacket'],\n",
    "    'Home': ['Sofa', 'Coffee Table', 'Lamp', 'Bed']\n",
    "}\n",
    "\n",
    "num_records = 1000\n",
    "\n",
    "data = []\n",
    "\n",
    "for i in range(num_records):\n",
    "    invoice_id = f\"INV{100000 + i}\"\n",
    "    customer_id = f\"CUST{random.randint(1000, 9999)}\"\n",
    "    invoice_date = fake.date_time_between(start_date='-6M', end_date='now')\n",
    "    province = random.choice(provinces)\n",
    "    category = random.choice(list(categories.keys()))\n",
    "    product = random.choice(categories[category])\n",
    "    quantity = random.randint(1, 5)\n",
    "    unit_price = round(random.uniform(10.0, 500.0), 2)\n",
    "    total_price = round(quantity * unit_price, 2)\n",
    "\n",
    "    data.append([\n",
    "        invoice_id, customer_id, invoice_date, province,\n",
    "        category, product, quantity, unit_price, total_price\n",
    "    ])\n",
    "\n",
    "# Create DataFrame\n",
    "columns = ['InvoiceID', 'CustomerID', 'InvoiceDate', 'Province',\n",
    "           'Category', 'ProductName', 'Quantity', 'UnitPrice', 'TotalPrice']\n",
    "\n",
    "df = pd.DataFrame(data, columns=columns)\n",
    "\n",
    "# Save to CSV\n",
    "df.to_csv('canadian_retail_sales.csv', index=False, encoding='utf-8')\n",
    "print(\"Custom Canadian sales dataset created and saved as 'canadian_retail_sales.csv'\")"
   ]
  },
  {
   "cell_type": "code",
   "execution_count": 3,
   "id": "1b930d78-3d74-4d40-ae15-d006abc65cd3",
   "metadata": {},
   "outputs": [
    {
     "data": {
      "text/html": [
       "<div>\n",
       "<style scoped>\n",
       "    .dataframe tbody tr th:only-of-type {\n",
       "        vertical-align: middle;\n",
       "    }\n",
       "\n",
       "    .dataframe tbody tr th {\n",
       "        vertical-align: top;\n",
       "    }\n",
       "\n",
       "    .dataframe thead th {\n",
       "        text-align: right;\n",
       "    }\n",
       "</style>\n",
       "<table border=\"1\" class=\"dataframe\">\n",
       "  <thead>\n",
       "    <tr style=\"text-align: right;\">\n",
       "      <th></th>\n",
       "      <th>InvoiceID</th>\n",
       "      <th>CustomerID</th>\n",
       "      <th>InvoiceDate</th>\n",
       "      <th>Province</th>\n",
       "      <th>Category</th>\n",
       "      <th>ProductName</th>\n",
       "      <th>Quantity</th>\n",
       "      <th>UnitPrice</th>\n",
       "      <th>TotalPrice</th>\n",
       "    </tr>\n",
       "  </thead>\n",
       "  <tbody>\n",
       "    <tr>\n",
       "      <th>0</th>\n",
       "      <td>INV100000</td>\n",
       "      <td>CUST3435</td>\n",
       "      <td>2025-05-01 12:46:19</td>\n",
       "      <td>NB</td>\n",
       "      <td>Home</td>\n",
       "      <td>Bed</td>\n",
       "      <td>2</td>\n",
       "      <td>387.72</td>\n",
       "      <td>775.44</td>\n",
       "    </tr>\n",
       "    <tr>\n",
       "      <th>1</th>\n",
       "      <td>INV100001</td>\n",
       "      <td>CUST4652</td>\n",
       "      <td>2025-01-18 23:40:03</td>\n",
       "      <td>MB</td>\n",
       "      <td>Home</td>\n",
       "      <td>Bed</td>\n",
       "      <td>1</td>\n",
       "      <td>45.89</td>\n",
       "      <td>45.89</td>\n",
       "    </tr>\n",
       "    <tr>\n",
       "      <th>2</th>\n",
       "      <td>INV100002</td>\n",
       "      <td>CUST2155</td>\n",
       "      <td>2025-01-02 05:23:08</td>\n",
       "      <td>AB</td>\n",
       "      <td>Electronics</td>\n",
       "      <td>Smartphone</td>\n",
       "      <td>4</td>\n",
       "      <td>367.43</td>\n",
       "      <td>1469.72</td>\n",
       "    </tr>\n",
       "    <tr>\n",
       "      <th>3</th>\n",
       "      <td>INV100003</td>\n",
       "      <td>CUST4256</td>\n",
       "      <td>2025-05-21 08:42:10</td>\n",
       "      <td>ON</td>\n",
       "      <td>Home</td>\n",
       "      <td>Sofa</td>\n",
       "      <td>2</td>\n",
       "      <td>141.21</td>\n",
       "      <td>282.42</td>\n",
       "    </tr>\n",
       "    <tr>\n",
       "      <th>4</th>\n",
       "      <td>INV100004</td>\n",
       "      <td>CUST5135</td>\n",
       "      <td>2025-02-19 18:33:24</td>\n",
       "      <td>MB</td>\n",
       "      <td>Apparel</td>\n",
       "      <td>T-shirt</td>\n",
       "      <td>3</td>\n",
       "      <td>23.95</td>\n",
       "      <td>71.85</td>\n",
       "    </tr>\n",
       "    <tr>\n",
       "      <th>5</th>\n",
       "      <td>INV100005</td>\n",
       "      <td>CUST7036</td>\n",
       "      <td>2025-02-13 22:06:21</td>\n",
       "      <td>NL</td>\n",
       "      <td>Electronics</td>\n",
       "      <td>Laptop</td>\n",
       "      <td>4</td>\n",
       "      <td>77.95</td>\n",
       "      <td>311.80</td>\n",
       "    </tr>\n",
       "    <tr>\n",
       "      <th>6</th>\n",
       "      <td>INV100006</td>\n",
       "      <td>CUST1949</td>\n",
       "      <td>2025-02-09 17:03:52</td>\n",
       "      <td>SK</td>\n",
       "      <td>Home</td>\n",
       "      <td>Sofa</td>\n",
       "      <td>5</td>\n",
       "      <td>358.43</td>\n",
       "      <td>1792.15</td>\n",
       "    </tr>\n",
       "    <tr>\n",
       "      <th>7</th>\n",
       "      <td>INV100007</td>\n",
       "      <td>CUST8355</td>\n",
       "      <td>2025-01-24 11:07:15</td>\n",
       "      <td>BC</td>\n",
       "      <td>Apparel</td>\n",
       "      <td>Jeans</td>\n",
       "      <td>5</td>\n",
       "      <td>479.06</td>\n",
       "      <td>2395.30</td>\n",
       "    </tr>\n",
       "    <tr>\n",
       "      <th>8</th>\n",
       "      <td>INV100008</td>\n",
       "      <td>CUST2041</td>\n",
       "      <td>2025-05-20 09:01:54</td>\n",
       "      <td>AB</td>\n",
       "      <td>Home</td>\n",
       "      <td>Bed</td>\n",
       "      <td>3</td>\n",
       "      <td>89.24</td>\n",
       "      <td>267.72</td>\n",
       "    </tr>\n",
       "    <tr>\n",
       "      <th>9</th>\n",
       "      <td>INV100009</td>\n",
       "      <td>CUST9313</td>\n",
       "      <td>2025-01-17 06:29:21</td>\n",
       "      <td>BC</td>\n",
       "      <td>Electronics</td>\n",
       "      <td>Headphones</td>\n",
       "      <td>5</td>\n",
       "      <td>228.66</td>\n",
       "      <td>1143.30</td>\n",
       "    </tr>\n",
       "  </tbody>\n",
       "</table>\n",
       "</div>"
      ],
      "text/plain": [
       "   InvoiceID CustomerID         InvoiceDate Province     Category ProductName  \\\n",
       "0  INV100000   CUST3435 2025-05-01 12:46:19       NB         Home         Bed   \n",
       "1  INV100001   CUST4652 2025-01-18 23:40:03       MB         Home         Bed   \n",
       "2  INV100002   CUST2155 2025-01-02 05:23:08       AB  Electronics  Smartphone   \n",
       "3  INV100003   CUST4256 2025-05-21 08:42:10       ON         Home        Sofa   \n",
       "4  INV100004   CUST5135 2025-02-19 18:33:24       MB      Apparel     T-shirt   \n",
       "5  INV100005   CUST7036 2025-02-13 22:06:21       NL  Electronics      Laptop   \n",
       "6  INV100006   CUST1949 2025-02-09 17:03:52       SK         Home        Sofa   \n",
       "7  INV100007   CUST8355 2025-01-24 11:07:15       BC      Apparel       Jeans   \n",
       "8  INV100008   CUST2041 2025-05-20 09:01:54       AB         Home         Bed   \n",
       "9  INV100009   CUST9313 2025-01-17 06:29:21       BC  Electronics  Headphones   \n",
       "\n",
       "   Quantity  UnitPrice  TotalPrice  \n",
       "0         2     387.72      775.44  \n",
       "1         1      45.89       45.89  \n",
       "2         4     367.43     1469.72  \n",
       "3         2     141.21      282.42  \n",
       "4         3      23.95       71.85  \n",
       "5         4      77.95      311.80  \n",
       "6         5     358.43     1792.15  \n",
       "7         5     479.06     2395.30  \n",
       "8         3      89.24      267.72  \n",
       "9         5     228.66     1143.30  "
      ]
     },
     "execution_count": 3,
     "metadata": {},
     "output_type": "execute_result"
    }
   ],
   "source": [
    "df.head(10)"
   ]
  },
  {
   "cell_type": "code",
   "execution_count": 4,
   "id": "91e2d1a7-e612-4402-80c1-6541e3618836",
   "metadata": {},
   "outputs": [
    {
     "name": "stdout",
     "output_type": "stream",
     "text": [
      "<class 'pandas.core.frame.DataFrame'>\n",
      "RangeIndex: 1000 entries, 0 to 999\n",
      "Data columns (total 9 columns):\n",
      " #   Column       Non-Null Count  Dtype         \n",
      "---  ------       --------------  -----         \n",
      " 0   InvoiceID    1000 non-null   object        \n",
      " 1   CustomerID   1000 non-null   object        \n",
      " 2   InvoiceDate  1000 non-null   datetime64[ns]\n",
      " 3   Province     1000 non-null   object        \n",
      " 4   Category     1000 non-null   object        \n",
      " 5   ProductName  1000 non-null   object        \n",
      " 6   Quantity     1000 non-null   int64         \n",
      " 7   UnitPrice    1000 non-null   float64       \n",
      " 8   TotalPrice   1000 non-null   float64       \n",
      "dtypes: datetime64[ns](1), float64(2), int64(1), object(5)\n",
      "memory usage: 70.4+ KB\n"
     ]
    }
   ],
   "source": [
    "df.info()"
   ]
  },
  {
   "cell_type": "code",
   "execution_count": 5,
   "id": "9b7939d9-0f53-4451-a7d5-c283a4540f12",
   "metadata": {},
   "outputs": [
    {
     "data": {
      "text/plain": [
       "InvoiceID      0\n",
       "CustomerID     0\n",
       "InvoiceDate    0\n",
       "Province       0\n",
       "Category       0\n",
       "ProductName    0\n",
       "Quantity       0\n",
       "UnitPrice      0\n",
       "TotalPrice     0\n",
       "dtype: int64"
      ]
     },
     "execution_count": 5,
     "metadata": {},
     "output_type": "execute_result"
    }
   ],
   "source": [
    "df.isnull().sum()"
   ]
  },
  {
   "cell_type": "code",
   "execution_count": 6,
   "id": "81685509-77d1-45d6-85eb-d36caf4027d6",
   "metadata": {},
   "outputs": [
    {
     "data": {
      "text/plain": [
       "InvoiceID              object\n",
       "CustomerID             object\n",
       "InvoiceDate    datetime64[ns]\n",
       "Province               object\n",
       "Category               object\n",
       "ProductName            object\n",
       "Quantity                int64\n",
       "UnitPrice             float64\n",
       "TotalPrice            float64\n",
       "dtype: object"
      ]
     },
     "execution_count": 6,
     "metadata": {},
     "output_type": "execute_result"
    }
   ],
   "source": [
    "df.dtypes"
   ]
  },
  {
   "cell_type": "code",
   "execution_count": 7,
   "id": "50856c26-8df7-4aaf-b64f-ca997238ab78",
   "metadata": {},
   "outputs": [
    {
     "name": "stdout",
     "output_type": "stream",
     "text": [
      "Duplicate rows: 0\n"
     ]
    }
   ],
   "source": [
    "duplicates = df.duplicated().sum()\n",
    "print(f\"Duplicate rows: {duplicates}\")\n",
    "\n",
    "df = df.drop_duplicates()"
   ]
  },
  {
   "cell_type": "code",
   "execution_count": 8,
   "id": "c7a9715b-8caa-4066-a87d-f8be0f93253d",
   "metadata": {},
   "outputs": [
    {
     "name": "stdout",
     "output_type": "stream",
     "text": [
      "count    1000.000000\n",
      "mean        2.906000\n",
      "std         1.407532\n",
      "min         1.000000\n",
      "25%         2.000000\n",
      "50%         3.000000\n",
      "75%         4.000000\n",
      "max         5.000000\n",
      "Name: Quantity, dtype: float64\n",
      "count    1000.000000\n",
      "mean      260.203130\n",
      "std       142.803056\n",
      "min        11.850000\n",
      "25%       137.827500\n",
      "50%       268.945000\n",
      "75%       380.012500\n",
      "max       499.670000\n",
      "Name: UnitPrice, dtype: float64\n"
     ]
    }
   ],
   "source": [
    "print(df['Quantity'].describe())\n",
    "print(df['UnitPrice'].describe())"
   ]
  },
  {
   "cell_type": "code",
   "execution_count": 9,
   "id": "8393f4b0-caf0-49f5-842a-218ce67ee89f",
   "metadata": {},
   "outputs": [],
   "source": [
    "df['InvoiceMonth'] = df['InvoiceDate'].dt.to_period('M')\n",
    "df['Month'] = df['InvoiceDate'].dt.month\n",
    "df['Year'] = df['InvoiceDate'].dt.year"
   ]
  },
  {
   "cell_type": "code",
   "execution_count": 10,
   "id": "5447f128-557d-43ca-8bc4-4939ff4067dd",
   "metadata": {},
   "outputs": [
    {
     "name": "stdout",
     "output_type": "stream",
     "text": [
      "<class 'pandas.core.frame.DataFrame'>\n",
      "RangeIndex: 1000 entries, 0 to 999\n",
      "Data columns (total 12 columns):\n",
      " #   Column        Non-Null Count  Dtype         \n",
      "---  ------        --------------  -----         \n",
      " 0   InvoiceID     1000 non-null   object        \n",
      " 1   CustomerID    1000 non-null   object        \n",
      " 2   InvoiceDate   1000 non-null   datetime64[ns]\n",
      " 3   Province      1000 non-null   object        \n",
      " 4   Category      1000 non-null   object        \n",
      " 5   ProductName   1000 non-null   object        \n",
      " 6   Quantity      1000 non-null   int64         \n",
      " 7   UnitPrice     1000 non-null   float64       \n",
      " 8   TotalPrice    1000 non-null   float64       \n",
      " 9   InvoiceMonth  1000 non-null   period[M]     \n",
      " 10  Month         1000 non-null   int32         \n",
      " 11  Year          1000 non-null   int32         \n",
      "dtypes: datetime64[ns](1), float64(2), int32(2), int64(1), object(5), period[M](1)\n",
      "memory usage: 86.1+ KB\n"
     ]
    },
    {
     "data": {
      "text/html": [
       "<div>\n",
       "<style scoped>\n",
       "    .dataframe tbody tr th:only-of-type {\n",
       "        vertical-align: middle;\n",
       "    }\n",
       "\n",
       "    .dataframe tbody tr th {\n",
       "        vertical-align: top;\n",
       "    }\n",
       "\n",
       "    .dataframe thead th {\n",
       "        text-align: right;\n",
       "    }\n",
       "</style>\n",
       "<table border=\"1\" class=\"dataframe\">\n",
       "  <thead>\n",
       "    <tr style=\"text-align: right;\">\n",
       "      <th></th>\n",
       "      <th>InvoiceID</th>\n",
       "      <th>CustomerID</th>\n",
       "      <th>InvoiceDate</th>\n",
       "      <th>Province</th>\n",
       "      <th>Category</th>\n",
       "      <th>ProductName</th>\n",
       "      <th>Quantity</th>\n",
       "      <th>UnitPrice</th>\n",
       "      <th>TotalPrice</th>\n",
       "      <th>InvoiceMonth</th>\n",
       "      <th>Month</th>\n",
       "      <th>Year</th>\n",
       "    </tr>\n",
       "  </thead>\n",
       "  <tbody>\n",
       "    <tr>\n",
       "      <th>0</th>\n",
       "      <td>INV100000</td>\n",
       "      <td>CUST3435</td>\n",
       "      <td>2025-05-01 12:46:19</td>\n",
       "      <td>NB</td>\n",
       "      <td>Home</td>\n",
       "      <td>Bed</td>\n",
       "      <td>2</td>\n",
       "      <td>387.72</td>\n",
       "      <td>775.44</td>\n",
       "      <td>2025-05</td>\n",
       "      <td>5</td>\n",
       "      <td>2025</td>\n",
       "    </tr>\n",
       "    <tr>\n",
       "      <th>1</th>\n",
       "      <td>INV100001</td>\n",
       "      <td>CUST4652</td>\n",
       "      <td>2025-01-18 23:40:03</td>\n",
       "      <td>MB</td>\n",
       "      <td>Home</td>\n",
       "      <td>Bed</td>\n",
       "      <td>1</td>\n",
       "      <td>45.89</td>\n",
       "      <td>45.89</td>\n",
       "      <td>2025-01</td>\n",
       "      <td>1</td>\n",
       "      <td>2025</td>\n",
       "    </tr>\n",
       "    <tr>\n",
       "      <th>2</th>\n",
       "      <td>INV100002</td>\n",
       "      <td>CUST2155</td>\n",
       "      <td>2025-01-02 05:23:08</td>\n",
       "      <td>AB</td>\n",
       "      <td>Electronics</td>\n",
       "      <td>Smartphone</td>\n",
       "      <td>4</td>\n",
       "      <td>367.43</td>\n",
       "      <td>1469.72</td>\n",
       "      <td>2025-01</td>\n",
       "      <td>1</td>\n",
       "      <td>2025</td>\n",
       "    </tr>\n",
       "    <tr>\n",
       "      <th>3</th>\n",
       "      <td>INV100003</td>\n",
       "      <td>CUST4256</td>\n",
       "      <td>2025-05-21 08:42:10</td>\n",
       "      <td>ON</td>\n",
       "      <td>Home</td>\n",
       "      <td>Sofa</td>\n",
       "      <td>2</td>\n",
       "      <td>141.21</td>\n",
       "      <td>282.42</td>\n",
       "      <td>2025-05</td>\n",
       "      <td>5</td>\n",
       "      <td>2025</td>\n",
       "    </tr>\n",
       "    <tr>\n",
       "      <th>4</th>\n",
       "      <td>INV100004</td>\n",
       "      <td>CUST5135</td>\n",
       "      <td>2025-02-19 18:33:24</td>\n",
       "      <td>MB</td>\n",
       "      <td>Apparel</td>\n",
       "      <td>T-shirt</td>\n",
       "      <td>3</td>\n",
       "      <td>23.95</td>\n",
       "      <td>71.85</td>\n",
       "      <td>2025-02</td>\n",
       "      <td>2</td>\n",
       "      <td>2025</td>\n",
       "    </tr>\n",
       "  </tbody>\n",
       "</table>\n",
       "</div>"
      ],
      "text/plain": [
       "   InvoiceID CustomerID         InvoiceDate Province     Category ProductName  \\\n",
       "0  INV100000   CUST3435 2025-05-01 12:46:19       NB         Home         Bed   \n",
       "1  INV100001   CUST4652 2025-01-18 23:40:03       MB         Home         Bed   \n",
       "2  INV100002   CUST2155 2025-01-02 05:23:08       AB  Electronics  Smartphone   \n",
       "3  INV100003   CUST4256 2025-05-21 08:42:10       ON         Home        Sofa   \n",
       "4  INV100004   CUST5135 2025-02-19 18:33:24       MB      Apparel     T-shirt   \n",
       "\n",
       "   Quantity  UnitPrice  TotalPrice InvoiceMonth  Month  Year  \n",
       "0         2     387.72      775.44      2025-05      5  2025  \n",
       "1         1      45.89       45.89      2025-01      1  2025  \n",
       "2         4     367.43     1469.72      2025-01      1  2025  \n",
       "3         2     141.21      282.42      2025-05      5  2025  \n",
       "4         3      23.95       71.85      2025-02      2  2025  "
      ]
     },
     "execution_count": 10,
     "metadata": {},
     "output_type": "execute_result"
    }
   ],
   "source": [
    "df.info()\n",
    "df.head()"
   ]
  },
  {
   "cell_type": "code",
   "execution_count": 11,
   "id": "e61dc32d-78af-45c1-ad8f-ed307d805738",
   "metadata": {},
   "outputs": [
    {
     "name": "stdout",
     "output_type": "stream",
     "text": [
      "Cleaned dataset saved as 'cleaned_canadian_retail_sales.csv'\n"
     ]
    }
   ],
   "source": [
    "df.to_csv('cleaned_canadian_retail_sales.csv', index=False)\n",
    "print(\"Cleaned dataset saved as 'cleaned_canadian_retail_sales.csv'\")"
   ]
  },
  {
   "cell_type": "code",
   "execution_count": 12,
   "id": "7b25547a-f430-4f6c-90ff-1acfffe55b99",
   "metadata": {},
   "outputs": [],
   "source": [
    "df = pd.read_csv('cleaned_canadian_retail_sales.csv')"
   ]
  },
  {
   "cell_type": "code",
   "execution_count": 13,
   "id": "22feafbe-3bf2-44fb-a8ab-4544f1664648",
   "metadata": {},
   "outputs": [],
   "source": [
    "df['InvoiceDate'] = pd.to_datetime(df['InvoiceDate'])"
   ]
  },
  {
   "cell_type": "code",
   "execution_count": 14,
   "id": "8a203585-2178-4306-8c5d-d23eb3a3987b",
   "metadata": {},
   "outputs": [
    {
     "name": "stdout",
     "output_type": "stream",
     "text": [
      "Total Revenue: $760,521.63\n"
     ]
    }
   ],
   "source": [
    "total_revenue = df['TotalPrice'].sum()\n",
    "print(f\"Total Revenue: ${total_revenue:,.2f}\")"
   ]
  },
  {
   "cell_type": "code",
   "execution_count": 15,
   "id": "ad708e07-d521-42f5-b717-f6381c5bbdc6",
   "metadata": {},
   "outputs": [
    {
     "name": "stdout",
     "output_type": "stream",
     "text": [
      "👥 Unique Customers: 947\n"
     ]
    }
   ],
   "source": [
    "unique_customers = df['CustomerID'].nunique()\n",
    "print(f\"👥 Unique Customers: {unique_customers}\")"
   ]
  },
  {
   "cell_type": "code",
   "execution_count": 16,
   "id": "6e4b8eff-4ae2-4bf9-983a-f092268f33f2",
   "metadata": {},
   "outputs": [
    {
     "name": "stdout",
     "output_type": "stream",
     "text": [
      "🧾 Average Order Value: $760.52\n"
     ]
    }
   ],
   "source": [
    "aov = df.groupby('InvoiceID')['TotalPrice'].sum().mean()\n",
    "print(f\"🧾 Average Order Value: ${aov:,.2f}\")"
   ]
  },
  {
   "cell_type": "code",
   "execution_count": 17,
   "id": "a7c206e8-9615-4680-9f7a-aa1525fed05e",
   "metadata": {},
   "outputs": [
    {
     "data": {
      "image/png": "[encoded data removed]",
      "text/plain": [
       "<Figure size 1000x500 with 1 Axes>"
      ]
     },
     "metadata": {},
     "output_type": "display_data"
    }
   ],
   "source": [
    "# Group by month\n",
    "monthly_sales = df.groupby(df['InvoiceDate'].dt.to_period('M'))['TotalPrice'].sum()\n",
    "\n",
    "# Plot\n",
    "monthly_sales.plot(kind='bar', figsize=(10,5), title='Monthly Revenue (CAD)', color='cornflowerblue')\n",
    "plt.ylabel(\"Revenue ($)\")\n",
    "plt.xlabel(\"Month\")\n",
    "plt.xticks(rotation=45)\n",
    "plt.tight_layout()\n",
    "plt.show()"
   ]
  },
  {
   "cell_type": "code",
   "execution_count": 18,
   "id": "212edb4e-f186-4bfe-b398-90cd6bac4881",
   "metadata": {},
   "outputs": [
    {
     "data": {
      "image/png": "[encoded data removed]",
      "text/plain": [
       "<Figure size 800x400 with 1 Axes>"
      ]
     },
     "metadata": {},
     "output_type": "display_data"
    }
   ],
   "source": [
    "province_sales = df.groupby('Province')['TotalPrice'].sum().sort_values(ascending=False)\n",
    "\n",
    "# Plot\n",
    "province_sales.plot(kind='bar', figsize=(8,4), title='Revenue by Province (CAD)', color='seagreen')\n",
    "plt.ylabel(\"Revenue ($)\")\n",
    "plt.xlabel(\"Province\")\n",
    "plt.xticks(rotation=0)\n",
    "plt.tight_layout()\n",
    "plt.show()"
   ]
  },
  {
   "cell_type": "code",
   "execution_count": 19,
   "id": "233910cc-6b88-4271-a15a-4e78eaee7c68",
   "metadata": {},
   "outputs": [
    {
     "data": {
      "image/png": "[encoded data removed]",
      "text/plain": [
       "<Figure size 800x600 with 1 Axes>"
      ]
     },
     "metadata": {},
     "output_type": "display_data"
    }
   ],
   "source": [
    "top_products = df.groupby('ProductName')['Quantity'].sum().sort_values(ascending=False).head(5)\n",
    "\n",
    "# Plot\n",
    "top_products.plot(kind='barh', title='Top 10 Best-Selling Products', figsize=(8,6), color='skyblue')\n",
    "plt.xlabel(\"Quantity Sold\")\n",
    "plt.gca().invert_yaxis()\n",
    "plt.tight_layout()\n",
    "plt.show()"
   ]
  },
  {
   "cell_type": "code",
   "execution_count": 20,
   "id": "40aa0dea-52a7-4c06-bb2d-bba4bc909d5e",
   "metadata": {},
   "outputs": [
    {
     "data": {
      "image/png": "[encoded data removed]",
      "text/plain": [
       "<Figure size 600x600 with 1 Axes>"
      ]
     },
     "metadata": {},
     "output_type": "display_data"
    }
   ],
   "source": [
    "category_revenue = df.groupby('Category')['TotalPrice'].sum().sort_values(ascending=False)\n",
    "\n",
    "# Plot\n",
    "category_revenue.plot(kind='pie', autopct='%1.1f%%', title='Revenue by Category', figsize=(6,6), colors=sns.color_palette('pastel'))\n",
    "plt.ylabel(\"\")\n",
    "plt.tight_layout()\n",
    "plt.show()"
   ]
  },
  {
   "cell_type": "code",
   "execution_count": 36,
   "id": "4869dc65-342c-4fb3-a11c-cc1921e2f8ab",
   "metadata": {},
   "outputs": [],
   "source": [
    "df = pd.read_csv('cleaned_canadian_retail_sales.csv')"
   ]
  },
  {
   "cell_type": "code",
   "execution_count": 37,
   "id": "4f445468-a6e6-4bc0-8249-824e97691fec",
   "metadata": {},
   "outputs": [],
   "source": [
    "df['InvoiceDate'] = pd.to_datetime(df['InvoiceDate'])"
   ]
  },
  {
   "cell_type": "code",
   "execution_count": 38,
   "id": "e85b67e9-37b8-4c2d-b289-23097b2c2386",
   "metadata": {},
   "outputs": [],
   "source": [
    "snapshot_date = df['InvoiceDate'].max() + pd.Timedelta(days=1)"
   ]
  },
  {
   "cell_type": "code",
   "execution_count": 39,
   "id": "14a809c9-701e-46d8-9200-8e8582c31f6c",
   "metadata": {},
   "outputs": [],
   "source": [
    "rfm = df.groupby('CustomerID').agg({\n",
    "    'InvoiceDate': lambda x: (snapshot_date - x.max()).days,\n",
    "    'InvoiceID': 'nunique',\n",
    "    'TotalPrice': 'sum'\n",
    "})"
   ]
  },
  {
   "cell_type": "code",
   "execution_count": 40,
   "id": "a3803c94-39a1-410b-b6c8-e5e0221b7d42",
   "metadata": {},
   "outputs": [],
   "source": [
    "rfm.rename(columns={\n",
    "    'InvoiceDate': 'Recency',\n",
    "    'InvoiceID': 'Frequency',\n",
    "    'TotalPrice': 'Monetary'\n",
    "}, inplace=True)"
   ]
  },
  {
   "cell_type": "code",
   "execution_count": 41,
   "id": "610d1f7b-3eff-42cd-a039-6ffa5487f112",
   "metadata": {},
   "outputs": [
    {
     "name": "stdout",
     "output_type": "stream",
     "text": [
      "            Recency  Frequency  Monetary\n",
      "CustomerID                              \n",
      "CUST1000        125          1    366.74\n",
      "CUST1019        156          1   1114.50\n",
      "CUST1042        131          1     73.94\n",
      "CUST1045        125          1   1436.34\n",
      "CUST1064        161          1    766.25\n"
     ]
    }
   ],
   "source": [
    "print(rfm.head())"
   ]
  },
  {
   "cell_type": "code",
   "execution_count": 53,
   "id": "cd6fee30-6dbd-426f-b947-142678d2b16a",
   "metadata": {},
   "outputs": [
    {
     "data": {
      "text/plain": [
       "CustomerID\n",
       "CUST1000    2\n",
       "CUST1019    1\n",
       "CUST1042    2\n",
       "CUST1045    2\n",
       "CUST1064    1\n",
       "           ..\n",
       "CUST9941    2\n",
       "CUST9965    1\n",
       "CUST9983    4\n",
       "CUST9984    2\n",
       "CUST9986    3\n",
       "Name: Recency, Length: 947, dtype: int32"
      ]
     },
     "execution_count": 53,
     "metadata": {},
     "output_type": "execute_result"
    }
   ],
   "source": [
    "pd.qcut(rfm['Recency'], 5, labels=[5, 4, 3, 2, 1]).astype(int)"
   ]
  },
  {
   "cell_type": "code",
   "execution_count": 54,
   "id": "606f1f81-03dc-4b12-add3-03bf845e5b52",
   "metadata": {},
   "outputs": [
    {
     "data": {
      "text/plain": [
       "CustomerID\n",
       "CUST1000    1\n",
       "CUST1019    1\n",
       "CUST1042    1\n",
       "CUST1045    1\n",
       "CUST1064    1\n",
       "           ..\n",
       "CUST9941    5\n",
       "CUST9965    5\n",
       "CUST9983    5\n",
       "CUST9984    5\n",
       "CUST9986    5\n",
       "Name: Frequency, Length: 947, dtype: int32"
      ]
     },
     "execution_count": 54,
     "metadata": {},
     "output_type": "execute_result"
    }
   ],
   "source": [
    "pd.qcut(rfm['Frequency'].rank(method='first'), 5, labels=[1, 2, 3, 4, 5]).astype(int)"
   ]
  },
  {
   "cell_type": "code",
   "execution_count": 55,
   "id": "b6160923-60c9-4971-a18a-88b15f55f46b",
   "metadata": {},
   "outputs": [
    {
     "data": {
      "text/plain": [
       "CustomerID\n",
       "CUST1000    2\n",
       "CUST1019    4\n",
       "CUST1042    1\n",
       "CUST1045    5\n",
       "CUST1064    3\n",
       "           ..\n",
       "CUST9941    4\n",
       "CUST9965    4\n",
       "CUST9983    4\n",
       "CUST9984    5\n",
       "CUST9986    3\n",
       "Name: Monetary, Length: 947, dtype: int32"
      ]
     },
     "execution_count": 55,
     "metadata": {},
     "output_type": "execute_result"
    }
   ],
   "source": [
    "pd.qcut(rfm['Monetary'], 5, labels=[1, 2, 3, 4, 5]).astype(int)"
   ]
  },
  {
   "cell_type": "code",
   "execution_count": 61,
   "id": "163c36ab-58a0-4745-8730-42624b98035f",
   "metadata": {},
   "outputs": [],
   "source": [
    "# Combine the RFM scores into a single string\n",
    "rfm['RFM_Segment'] = rfm['R_Score'].astype(str) + rfm['F_Score'].astype(str) + rfm['M_Score'].astype(str)"
   ]
  },
  {
   "cell_type": "code",
   "execution_count": 62,
   "id": "0a6ac515-0707-4681-820e-ec73568171bd",
   "metadata": {},
   "outputs": [],
   "source": [
    "# Calculate an overall RFM score (optional, useful for ranking)\n",
    "rfm['RFM_Score'] = rfm[['R_Score', 'F_Score', 'M_Score']].sum(axis=1)"
   ]
  },
  {
   "cell_type": "code",
   "execution_count": 63,
   "id": "59a9612e-180f-4606-bad9-45ec75d48b4b",
   "metadata": {},
   "outputs": [
    {
     "name": "stdout",
     "output_type": "stream",
     "text": [
      "            Recency  Frequency  Monetary  R_Score  F_Score  M_Score  \\\n",
      "CustomerID                                                            \n",
      "CUST1000        125          1    366.74        2        1        2   \n",
      "CUST1019        156          1   1114.50        1        1        4   \n",
      "CUST1042        131          1     73.94        2        1        1   \n",
      "CUST1045        125          1   1436.34        2        1        5   \n",
      "CUST1064        161          1    766.25        1        1        3   \n",
      "\n",
      "           RFM_Segment  RFM_Score  \n",
      "CustomerID                         \n",
      "CUST1000           212          5  \n",
      "CUST1019           114          6  \n",
      "CUST1042           211          4  \n",
      "CUST1045           215          8  \n",
      "CUST1064           113          5  \n"
     ]
    }
   ],
   "source": [
    "print(rfm.head())"
   ]
  },
  {
   "cell_type": "code",
   "execution_count": 66,
   "id": "5c195741-ddde-4715-9663-4a16859724cc",
   "metadata": {},
   "outputs": [
    {
     "name": "stdout",
     "output_type": "stream",
     "text": [
      "CustomerCategory\n",
      "Potential Loyalist    236\n",
      "Others                217\n",
      "At Risk               155\n",
      "Loyal Customer        141\n",
      "Champion               80\n",
      "Recent Customer        71\n",
      "Lost                   47\n",
      "Name: count, dtype: int64\n"
     ]
    }
   ],
   "source": [
    "def segment_customer(row):\n",
    "    if row['R_Score'] >= 4 and row['F_Score'] >= 4 and row['M_Score'] >= 4:\n",
    "        return 'Champion'\n",
    "    elif row['R_Score'] >= 4 and row['F_Score'] >= 3:\n",
    "        return 'Loyal Customer'\n",
    "    elif row['R_Score'] >= 3 and row['F_Score'] >= 2:\n",
    "        return 'Potential Loyalist'\n",
    "    elif row['R_Score'] >= 4:\n",
    "        return 'Recent Customer'\n",
    "    elif row['R_Score'] <= 2 and row['F_Score'] >= 4:\n",
    "        return 'At Risk'\n",
    "    elif row['R_Score'] == 1 and row['F_Score'] == 1:\n",
    "        return 'Lost'\n",
    "    else:\n",
    "        return 'Others'\n",
    "\n",
    "# Apply segmentation\n",
    "rfm['CustomerCategory'] = rfm.apply(segment_customer, axis=1)\n",
    "\n",
    "# Show segment counts\n",
    "print(rfm['CustomerCategory'].value_counts())"
   ]
  },
  {
   "cell_type": "code",
   "execution_count": 76,
   "id": "fa279557-d7e4-4557-a542-6ba3523f8953",
   "metadata": {},
   "outputs": [],
   "source": [
    "# Save selected columns to a CSV for Tableau\n",
    "rfm_for_tableau = rfm.reset_index()[[\n",
    "    'CustomerID', 'Recency', 'Frequency', 'Monetary',\n",
    "    'R_Score', 'F_Score', 'M_Score',\n",
    "    'RFM_Segment', 'RFM_Score', 'CustomerCategory'\n",
    "]]"
   ]
  },
  {
   "cell_type": "code",
   "execution_count": 71,
   "id": "6d446f89-c570-48da-8f84-740641501e08",
   "metadata": {},
   "outputs": [
    {
     "name": "stdout",
     "output_type": "stream",
     "text": [
      "RFM data saved as 'rfm_customer_segments.csv'\n"
     ]
    }
   ],
   "source": [
    "rfm_for_tableau.to_csv('rfm_customer_segments.csv', index=False)\n",
    "print(\"RFM data saved as 'rfm_customer_segments.csv'\")"
   ]
  },
  {
   "cell_type": "code",
   "execution_count": 77,
   "id": "ccf91e7b-83eb-45d4-bfb3-776ef77ea623",
   "metadata": {},
   "outputs": [
    {
     "data": {
      "text/html": [
       "<div>\n",
       "<style scoped>\n",
       "    .dataframe tbody tr th:only-of-type {\n",
       "        vertical-align: middle;\n",
       "    }\n",
       "\n",
       "    .dataframe tbody tr th {\n",
       "        vertical-align: top;\n",
       "    }\n",
       "\n",
       "    .dataframe thead th {\n",
       "        text-align: right;\n",
       "    }\n",
       "</style>\n",
       "<table border=\"1\" class=\"dataframe\">\n",
       "  <thead>\n",
       "    <tr style=\"text-align: right;\">\n",
       "      <th></th>\n",
       "      <th>CustomerID</th>\n",
       "      <th>Recency</th>\n",
       "      <th>Frequency</th>\n",
       "      <th>Monetary</th>\n",
       "      <th>R_Score</th>\n",
       "      <th>F_Score</th>\n",
       "      <th>M_Score</th>\n",
       "      <th>RFM_Segment</th>\n",
       "      <th>RFM_Score</th>\n",
       "      <th>CustomerCategory</th>\n",
       "    </tr>\n",
       "  </thead>\n",
       "  <tbody>\n",
       "    <tr>\n",
       "      <th>0</th>\n",
       "      <td>CUST1000</td>\n",
       "      <td>125</td>\n",
       "      <td>1</td>\n",
       "      <td>366.74</td>\n",
       "      <td>2</td>\n",
       "      <td>1</td>\n",
       "      <td>2</td>\n",
       "      <td>212</td>\n",
       "      <td>5</td>\n",
       "      <td>Others</td>\n",
       "    </tr>\n",
       "    <tr>\n",
       "      <th>1</th>\n",
       "      <td>CUST1019</td>\n",
       "      <td>156</td>\n",
       "      <td>1</td>\n",
       "      <td>1114.50</td>\n",
       "      <td>1</td>\n",
       "      <td>1</td>\n",
       "      <td>4</td>\n",
       "      <td>114</td>\n",
       "      <td>6</td>\n",
       "      <td>Lost</td>\n",
       "    </tr>\n",
       "    <tr>\n",
       "      <th>2</th>\n",
       "      <td>CUST1042</td>\n",
       "      <td>131</td>\n",
       "      <td>1</td>\n",
       "      <td>73.94</td>\n",
       "      <td>2</td>\n",
       "      <td>1</td>\n",
       "      <td>1</td>\n",
       "      <td>211</td>\n",
       "      <td>4</td>\n",
       "      <td>Others</td>\n",
       "    </tr>\n",
       "    <tr>\n",
       "      <th>3</th>\n",
       "      <td>CUST1045</td>\n",
       "      <td>125</td>\n",
       "      <td>1</td>\n",
       "      <td>1436.34</td>\n",
       "      <td>2</td>\n",
       "      <td>1</td>\n",
       "      <td>5</td>\n",
       "      <td>215</td>\n",
       "      <td>8</td>\n",
       "      <td>Others</td>\n",
       "    </tr>\n",
       "    <tr>\n",
       "      <th>4</th>\n",
       "      <td>CUST1064</td>\n",
       "      <td>161</td>\n",
       "      <td>1</td>\n",
       "      <td>766.25</td>\n",
       "      <td>1</td>\n",
       "      <td>1</td>\n",
       "      <td>3</td>\n",
       "      <td>113</td>\n",
       "      <td>5</td>\n",
       "      <td>Lost</td>\n",
       "    </tr>\n",
       "    <tr>\n",
       "      <th>5</th>\n",
       "      <td>CUST1067</td>\n",
       "      <td>41</td>\n",
       "      <td>1</td>\n",
       "      <td>919.50</td>\n",
       "      <td>4</td>\n",
       "      <td>1</td>\n",
       "      <td>4</td>\n",
       "      <td>414</td>\n",
       "      <td>9</td>\n",
       "      <td>Recent Customer</td>\n",
       "    </tr>\n",
       "    <tr>\n",
       "      <th>6</th>\n",
       "      <td>CUST1076</td>\n",
       "      <td>67</td>\n",
       "      <td>1</td>\n",
       "      <td>1356.60</td>\n",
       "      <td>4</td>\n",
       "      <td>1</td>\n",
       "      <td>5</td>\n",
       "      <td>415</td>\n",
       "      <td>10</td>\n",
       "      <td>Recent Customer</td>\n",
       "    </tr>\n",
       "    <tr>\n",
       "      <th>7</th>\n",
       "      <td>CUST1082</td>\n",
       "      <td>44</td>\n",
       "      <td>1</td>\n",
       "      <td>795.75</td>\n",
       "      <td>4</td>\n",
       "      <td>1</td>\n",
       "      <td>3</td>\n",
       "      <td>413</td>\n",
       "      <td>8</td>\n",
       "      <td>Recent Customer</td>\n",
       "    </tr>\n",
       "    <tr>\n",
       "      <th>8</th>\n",
       "      <td>CUST1085</td>\n",
       "      <td>116</td>\n",
       "      <td>1</td>\n",
       "      <td>334.56</td>\n",
       "      <td>2</td>\n",
       "      <td>1</td>\n",
       "      <td>2</td>\n",
       "      <td>212</td>\n",
       "      <td>5</td>\n",
       "      <td>Others</td>\n",
       "    </tr>\n",
       "    <tr>\n",
       "      <th>9</th>\n",
       "      <td>CUST1090</td>\n",
       "      <td>54</td>\n",
       "      <td>1</td>\n",
       "      <td>859.50</td>\n",
       "      <td>4</td>\n",
       "      <td>1</td>\n",
       "      <td>4</td>\n",
       "      <td>414</td>\n",
       "      <td>9</td>\n",
       "      <td>Recent Customer</td>\n",
       "    </tr>\n",
       "  </tbody>\n",
       "</table>\n",
       "</div>"
      ],
      "text/plain": [
       "  CustomerID  Recency  Frequency  Monetary  R_Score  F_Score  M_Score  \\\n",
       "0   CUST1000      125          1    366.74        2        1        2   \n",
       "1   CUST1019      156          1   1114.50        1        1        4   \n",
       "2   CUST1042      131          1     73.94        2        1        1   \n",
       "3   CUST1045      125          1   1436.34        2        1        5   \n",
       "4   CUST1064      161          1    766.25        1        1        3   \n",
       "5   CUST1067       41          1    919.50        4        1        4   \n",
       "6   CUST1076       67          1   1356.60        4        1        5   \n",
       "7   CUST1082       44          1    795.75        4        1        3   \n",
       "8   CUST1085      116          1    334.56        2        1        2   \n",
       "9   CUST1090       54          1    859.50        4        1        4   \n",
       "\n",
       "  RFM_Segment  RFM_Score CustomerCategory  \n",
       "0         212          5           Others  \n",
       "1         114          6             Lost  \n",
       "2         211          4           Others  \n",
       "3         215          8           Others  \n",
       "4         113          5             Lost  \n",
       "5         414          9  Recent Customer  \n",
       "6         415         10  Recent Customer  \n",
       "7         413          8  Recent Customer  \n",
       "8         212          5           Others  \n",
       "9         414          9  Recent Customer  "
      ]
     },
     "execution_count": 77,
     "metadata": {},
     "output_type": "execute_result"
    }
   ],
   "source": [
    "rfm_for_tableau.head(10)"
   ]
  },
  {
   "cell_type": "code",
   "execution_count": null,
   "id": "81ce83f4-8053-471b-9068-3a415f61657a",
   "metadata": {},
   "outputs": [
    {
     "data": {
      "text/html": [
       "<a href='rfm_customer_segments.csv' target='_blank'>rfm_customer_segments.csv</a><br>"
      ],
      "text/plain": [
       "C:\\Users\\NG\\rfm_customer_segments.csv"
      ]
     },
     "execution_count": 78,
     "metadata": {},
     "output_type": "execute_result"
    }
   ],
   "source": [
    "from IPython.display import FileLink\n",
    "FileLink('rfm_customer_segments.csv')"
   ]
  }
 ],
 "metadata": {
  "kernelspec": {
   "display_name": "Python 3 (ipykernel)",
   "language": "python",
   "name": "python3"
  },
  "language_info": {
   "codemirror_mode": {
    "name": "ipython",
    "version": 3
   },
   "file_extension": ".py",
   "mimetype": "text/x-python",
   "name": "python",
   "nbconvert_exporter": "python",
   "pygments_lexer": "ipython3",
   "version": "3.12.7"
  }
 },
 "nbformat": 4,
 "nbformat_minor": 5
}
